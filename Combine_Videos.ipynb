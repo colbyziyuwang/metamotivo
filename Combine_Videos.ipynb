{
  "nbformat": 4,
  "nbformat_minor": 0,
  "metadata": {
    "colab": {
      "provenance": []
    },
    "kernelspec": {
      "name": "python3",
      "display_name": "Python 3"
    },
    "language_info": {
      "name": "python"
    }
  },
  "cells": [
    {
      "cell_type": "code",
      "execution_count": 1,
      "metadata": {
        "id": "xZS3HGGK2b-w"
      },
      "outputs": [],
      "source": [
        "import cv2\n",
        "import numpy as np\n",
        "\n",
        "def combine_videos(video1_path, video2_path, output_path, title_text):\n",
        "    # Open videos\n",
        "    cap1 = cv2.VideoCapture(video1_path)\n",
        "    cap2 = cv2.VideoCapture(video2_path)\n",
        "\n",
        "    # Get properties\n",
        "    fps = cap1.get(cv2.CAP_PROP_FPS)\n",
        "    width = int(cap1.get(cv2.CAP_PROP_FRAME_WIDTH))\n",
        "    height = int(cap1.get(cv2.CAP_PROP_FRAME_HEIGHT))\n",
        "\n",
        "    # Output writer\n",
        "    out = cv2.VideoWriter(output_path, cv2.VideoWriter_fourcc(*'mp4v'), fps, (width * 2, height + 50))\n",
        "\n",
        "    font = cv2.FONT_HERSHEY_SIMPLEX\n",
        "\n",
        "    while True:\n",
        "        ret1, frame1 = cap1.read()\n",
        "        ret2, frame2 = cap2.read()\n",
        "\n",
        "        if not ret1 or not ret2:\n",
        "            break\n",
        "\n",
        "        # Combine frames side by side\n",
        "        combined = np.hstack((frame1, frame2))\n",
        "\n",
        "        # Add title space\n",
        "        title_area_height = 50\n",
        "        title_area = np.ones((title_area_height, combined.shape[1], 3), dtype=np.uint8) * 255  # white space\n",
        "\n",
        "        # Compute text size\n",
        "        (text_width, text_height), _ = cv2.getTextSize(title_text, font, 1, 2)\n",
        "\n",
        "        # Calculate centered position\n",
        "        text_x = (title_area.shape[1] - text_width) // 2\n",
        "        text_y = (title_area_height + text_height) // 2  # Vertically center in the title area\n",
        "\n",
        "        # Draw text\n",
        "        cv2.putText(title_area, title_text, (text_x, text_y), font, 1, (0, 0, 0), 2, cv2.LINE_AA)\n",
        "\n",
        "        # Stack title and video\n",
        "        final_frame = np.vstack((title_area, combined))\n",
        "\n",
        "        out.write(final_frame)\n",
        "\n",
        "    # Release resources\n",
        "    cap1.release()\n",
        "    cap2.release()\n",
        "    out.release()\n",
        "    print(\"✅ Video saved:\", output_path)\n"
      ]
    },
    {
      "cell_type": "code",
      "source": [
        "# Paths to input videos\n",
        "video1_path = 'move-ego-0-4_seed0_-0p077_0p069_dims1_2_3_L_Hip_pos_unconstrained.mp4'\n",
        "video2_path = 'move-ego-0-4_seed0_-0p416_0p421_dims217_218_219_eta_-200_L_Hip_vel_lagrange.mp4'\n",
        "output_path = 'comparison_video.mp4'\n",
        "title_text = \"Unconstrained vs Constrained Policy for Task: Move-Ego-0-4\"\n",
        "\n",
        "combine_videos(video1_path, video2_path, output_path, title_text)"
      ],
      "metadata": {
        "colab": {
          "base_uri": "https://localhost:8080/"
        },
        "id": "68NrAV1qklvM",
        "outputId": "79cd29e2-3a81-4e3d-d20a-26e5c3ba3ad5"
      },
      "execution_count": 2,
      "outputs": [
        {
          "output_type": "stream",
          "name": "stdout",
          "text": [
            "✅ Video saved: comparison_video.mp4\n"
          ]
        }
      ]
    }
  ]
}